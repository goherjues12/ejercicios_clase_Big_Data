{
  "nbformat": 4,
  "nbformat_minor": 0,
  "metadata": {
    "colab": {
      "provenance": []
    },
    "kernelspec": {
      "name": "python3",
      "display_name": "Python 3"
    },
    "language_info": {
      "name": "python"
    }
  },
  "cells": [
    {
      "cell_type": "markdown",
      "source": [
        "Análisis del Comportamiento de Consumo en la Industria de Videojuegos.\n",
        "\n",
        "(Posibles) Objetivo de investigación:\n",
        "1. Analizar las Tendencias de Consumo de Videojuegos: Identificar las tendencias de consumo de videojuegos a lo largo del tiempo, incluyendo cambios en las preferencias de género, plataformas y modelos de negocio.\n",
        "\n",
        "2. Segmentar a la Audiencia de Jugadores: Clasificar a los jugadores en segmentos según sus preferencias y hábitos de juego, permitiendo una comprensión más detallada del mercado.\n",
        "\n",
        "3. Predecir Patrones de Consumo Futuro: predecir tendencias futuras en el consumo de videojuegos, ayudando a la industria a adaptarse y anticipar cambios.\n",
        "\n",
        "(Posible) metodología:\n",
        "\n",
        "1. Recopilación de datos: uso de bases de datos (https://www.kaggle.com/datasets/migeruj/videogames-predictive-model / https://www.kaggle.com/datasets/sagayaabinesh/videogames).\n",
        "\n",
        "2. Análisis de datos: Pandas para procesar y limpiar los datos recopilados, EDA para identificar patrones, distribuciones y relaciones en los datos y ML para predecir patrones de consumo y segmentar a los jugadores (si es posible).\n",
        "\n",
        "(Posible pregunta): ¿Cuáles son las tendencias más recientes en el consumo de videojuegos, incluyendo cambios en las preferencias de género, plataformas y modelos de negocio?"
      ],
      "metadata": {
        "id": "qKRhxHRLmgkJ"
      }
    },
    {
      "cell_type": "code",
      "execution_count": 1,
      "metadata": {
        "colab": {
          "base_uri": "https://localhost:8080/"
        },
        "id": "hHsDQkoJllyh",
        "outputId": "5338d496-8061-4ac3-bd72-0ae6c0f4208d"
      },
      "outputs": [
        {
          "output_type": "stream",
          "name": "stdout",
          "text": [
            "Mounted at /content/drive\n"
          ]
        }
      ],
      "source": [
        "from google.colab import drive\n",
        "drive.mount(\"/content/drive\",force_remount=True)"
      ]
    },
    {
      "cell_type": "code",
      "source": [
        "import pandas as pd\n",
        "videogames_predictive_model = pd.read_csv(\"/content/drive/MyDrive/Big Data. /Proyecto de semestre. /videogames.csv\")\n",
        "\n",
        "videogames_predictive_model.info"
      ],
      "metadata": {
        "colab": {
          "base_uri": "https://localhost:8080/"
        },
        "id": "DJY9oQSy8UFq",
        "outputId": "f743fea3-8efd-4a33-9d8e-a74cb94e04cb"
      },
      "execution_count": 7,
      "outputs": [
        {
          "output_type": "execute_result",
          "data": {
            "text/plain": [
              "<bound method DataFrame.info of      Platform     Genre             Publisher NA_Sales EU_Sales JP_Sales  \\\n",
              "0         Wii    Sports              Nintendo    41,36    28,96     3,77   \n",
              "1         Wii    Racing              Nintendo    15,68     12,8     3,79   \n",
              "2         Wii    Sports              Nintendo    15,61    10,95     3,28   \n",
              "3          DS  Platform              Nintendo    11,28     9,15      6,5   \n",
              "4         Wii      Misc              Nintendo    13,96     9,18     2,93   \n",
              "...       ...       ...                   ...      ...      ...      ...   \n",
              "7107       PC    Action               Ubisoft        0        0        0   \n",
              "7108       PC   Shooter          Midway Games        0        0        0   \n",
              "7109       PC    Sports                  Sega        0        0        0   \n",
              "7110       PC  Strategy  Take-Two Interactive        0        0        0   \n",
              "7111      PS4  Platform             Team Meat        0        0        0   \n",
              "\n",
              "     Other_Sales Global_Sales Rating Critic_Score_Class  \n",
              "0           8,45        82,54      E              Bueno  \n",
              "1           3,29        35,57      E          Excelente  \n",
              "2           2,95        32,78      E          Excelente  \n",
              "3           2,88        29,81      E          Excelente  \n",
              "4           2,84        28,92      E               Malo  \n",
              "...          ...          ...    ...                ...  \n",
              "7107           0         0,01      T          Excelente  \n",
              "7108           0         0,01      T          Aceptable  \n",
              "7109           0         0,01      E          Aceptable  \n",
              "7110           0         0,01   E10+          Aceptable  \n",
              "7111           0         0,01      T          Excelente  \n",
              "\n",
              "[7112 rows x 10 columns]>"
            ]
          },
          "metadata": {},
          "execution_count": 7
        }
      ]
    },
    {
      "cell_type": "code",
      "source": [
        "videogames_predictive_model.describe"
      ],
      "metadata": {
        "colab": {
          "base_uri": "https://localhost:8080/"
        },
        "id": "ViH9u0qc9Ow5",
        "outputId": "b39ec445-aca7-4f4c-dc17-967620527fb9"
      },
      "execution_count": 8,
      "outputs": [
        {
          "output_type": "execute_result",
          "data": {
            "text/plain": [
              "<bound method NDFrame.describe of      Platform     Genre             Publisher NA_Sales EU_Sales JP_Sales  \\\n",
              "0         Wii    Sports              Nintendo    41,36    28,96     3,77   \n",
              "1         Wii    Racing              Nintendo    15,68     12,8     3,79   \n",
              "2         Wii    Sports              Nintendo    15,61    10,95     3,28   \n",
              "3          DS  Platform              Nintendo    11,28     9,15      6,5   \n",
              "4         Wii      Misc              Nintendo    13,96     9,18     2,93   \n",
              "...       ...       ...                   ...      ...      ...      ...   \n",
              "7107       PC    Action               Ubisoft        0        0        0   \n",
              "7108       PC   Shooter          Midway Games        0        0        0   \n",
              "7109       PC    Sports                  Sega        0        0        0   \n",
              "7110       PC  Strategy  Take-Two Interactive        0        0        0   \n",
              "7111      PS4  Platform             Team Meat        0        0        0   \n",
              "\n",
              "     Other_Sales Global_Sales Rating Critic_Score_Class  \n",
              "0           8,45        82,54      E              Bueno  \n",
              "1           3,29        35,57      E          Excelente  \n",
              "2           2,95        32,78      E          Excelente  \n",
              "3           2,88        29,81      E          Excelente  \n",
              "4           2,84        28,92      E               Malo  \n",
              "...          ...          ...    ...                ...  \n",
              "7107           0         0,01      T          Excelente  \n",
              "7108           0         0,01      T          Aceptable  \n",
              "7109           0         0,01      E          Aceptable  \n",
              "7110           0         0,01   E10+          Aceptable  \n",
              "7111           0         0,01      T          Excelente  \n",
              "\n",
              "[7112 rows x 10 columns]>"
            ]
          },
          "metadata": {},
          "execution_count": 8
        }
      ]
    },
    {
      "cell_type": "code",
      "source": [
        "import pandas as pd\n",
        "videogame_sales = pd.read_csv(\"/content/drive/MyDrive/Big Data. /Proyecto de semestre. /vgsales.csv\")\n",
        "\n",
        "videogame_sales.info"
      ],
      "metadata": {
        "colab": {
          "base_uri": "https://localhost:8080/"
        },
        "id": "gcRZcYIv9X7p",
        "outputId": "834154d0-2ef1-4ca4-8d10-49597c4bca24"
      },
      "execution_count": 10,
      "outputs": [
        {
          "output_type": "execute_result",
          "data": {
            "text/plain": [
              "<bound method DataFrame.info of         Rank                                              Name Platform  \\\n",
              "0          1                                        Wii Sports      Wii   \n",
              "1          2                                 Super Mario Bros.      NES   \n",
              "2          3                                    Mario Kart Wii      Wii   \n",
              "3          4                                 Wii Sports Resort      Wii   \n",
              "4          5                          Pokemon Red/Pokemon Blue       GB   \n",
              "...      ...                                               ...      ...   \n",
              "16593  16596                Woody Woodpecker in Crazy Castle 5      GBA   \n",
              "16594  16597                     Men in Black II: Alien Escape       GC   \n",
              "16595  16598  SCORE International Baja 1000: The Official Game      PS2   \n",
              "16596  16599                                        Know How 2       DS   \n",
              "16597  16600                                  Spirits & Spells      GBA   \n",
              "\n",
              "         Year         Genre   Publisher  NA_Sales  EU_Sales  JP_Sales  \\\n",
              "0      2006.0        Sports    Nintendo     41.49     29.02      3.77   \n",
              "1      1985.0      Platform    Nintendo     29.08      3.58      6.81   \n",
              "2      2008.0        Racing    Nintendo     15.85     12.88      3.79   \n",
              "3      2009.0        Sports    Nintendo     15.75     11.01      3.28   \n",
              "4      1996.0  Role-Playing    Nintendo     11.27      8.89     10.22   \n",
              "...       ...           ...         ...       ...       ...       ...   \n",
              "16593  2002.0      Platform       Kemco      0.01      0.00      0.00   \n",
              "16594  2003.0       Shooter  Infogrames      0.01      0.00      0.00   \n",
              "16595  2008.0        Racing  Activision      0.00      0.00      0.00   \n",
              "16596  2010.0        Puzzle    7G//AMES      0.00      0.01      0.00   \n",
              "16597  2003.0      Platform     Wanadoo      0.01      0.00      0.00   \n",
              "\n",
              "       Other_Sales  Global_Sales  \n",
              "0             8.46         82.74  \n",
              "1             0.77         40.24  \n",
              "2             3.31         35.82  \n",
              "3             2.96         33.00  \n",
              "4             1.00         31.37  \n",
              "...            ...           ...  \n",
              "16593         0.00          0.01  \n",
              "16594         0.00          0.01  \n",
              "16595         0.00          0.01  \n",
              "16596         0.00          0.01  \n",
              "16597         0.00          0.01  \n",
              "\n",
              "[16598 rows x 11 columns]>"
            ]
          },
          "metadata": {},
          "execution_count": 10
        }
      ]
    },
    {
      "cell_type": "code",
      "source": [
        "videogame_sales.describe"
      ],
      "metadata": {
        "id": "Gf6c4lXy9lvc",
        "outputId": "482db944-3379-4a0a-f31f-6e612731ff3f",
        "colab": {
          "base_uri": "https://localhost:8080/"
        }
      },
      "execution_count": 11,
      "outputs": [
        {
          "output_type": "execute_result",
          "data": {
            "text/plain": [
              "<bound method NDFrame.describe of         Rank                                              Name Platform  \\\n",
              "0          1                                        Wii Sports      Wii   \n",
              "1          2                                 Super Mario Bros.      NES   \n",
              "2          3                                    Mario Kart Wii      Wii   \n",
              "3          4                                 Wii Sports Resort      Wii   \n",
              "4          5                          Pokemon Red/Pokemon Blue       GB   \n",
              "...      ...                                               ...      ...   \n",
              "16593  16596                Woody Woodpecker in Crazy Castle 5      GBA   \n",
              "16594  16597                     Men in Black II: Alien Escape       GC   \n",
              "16595  16598  SCORE International Baja 1000: The Official Game      PS2   \n",
              "16596  16599                                        Know How 2       DS   \n",
              "16597  16600                                  Spirits & Spells      GBA   \n",
              "\n",
              "         Year         Genre   Publisher  NA_Sales  EU_Sales  JP_Sales  \\\n",
              "0      2006.0        Sports    Nintendo     41.49     29.02      3.77   \n",
              "1      1985.0      Platform    Nintendo     29.08      3.58      6.81   \n",
              "2      2008.0        Racing    Nintendo     15.85     12.88      3.79   \n",
              "3      2009.0        Sports    Nintendo     15.75     11.01      3.28   \n",
              "4      1996.0  Role-Playing    Nintendo     11.27      8.89     10.22   \n",
              "...       ...           ...         ...       ...       ...       ...   \n",
              "16593  2002.0      Platform       Kemco      0.01      0.00      0.00   \n",
              "16594  2003.0       Shooter  Infogrames      0.01      0.00      0.00   \n",
              "16595  2008.0        Racing  Activision      0.00      0.00      0.00   \n",
              "16596  2010.0        Puzzle    7G//AMES      0.00      0.01      0.00   \n",
              "16597  2003.0      Platform     Wanadoo      0.01      0.00      0.00   \n",
              "\n",
              "       Other_Sales  Global_Sales  \n",
              "0             8.46         82.74  \n",
              "1             0.77         40.24  \n",
              "2             3.31         35.82  \n",
              "3             2.96         33.00  \n",
              "4             1.00         31.37  \n",
              "...            ...           ...  \n",
              "16593         0.00          0.01  \n",
              "16594         0.00          0.01  \n",
              "16595         0.00          0.01  \n",
              "16596         0.00          0.01  \n",
              "16597         0.00          0.01  \n",
              "\n",
              "[16598 rows x 11 columns]>"
            ]
          },
          "metadata": {},
          "execution_count": 11
        }
      ]
    },
    {
      "cell_type": "markdown",
      "source": [],
      "metadata": {
        "id": "u1VuWoNpmft5"
      }
    }
  ]
}